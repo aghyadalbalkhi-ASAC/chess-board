{
 "cells": [
  {
   "cell_type": "markdown",
   "metadata": {},
   "source": [
    "### ChessBoard Lab"
   ]
  },
  {
   "cell_type": "code",
   "execution_count": 64,
   "metadata": {},
   "outputs": [],
   "source": [
    "import numpy as np\n",
    "import matplotlib.pyplot as plt\n",
    "\n",
    "class ChessBoard:\n",
    "    white = [1,1,1]\n",
    "    blue = [0,0,1]\n",
    "    red = [1,0,0]\n",
    "    def __init__(self):\n",
    "        self.grid = np.zeros([8,8,3])\n",
    "        self.red_qeen=[]\n",
    "        self.blue_qeen=[]\n",
    "        for i in range(8):\n",
    "            for j in range(8):\n",
    "                if (i%2==0 and j%2==0) or (i%2==1 and j%2==1):\n",
    "                    self.grid[i,j] = ChessBoard.white\n",
    "\n",
    "    def add_red(self,row,column):\n",
    "        # method that accepts a row and column as input which colors corresponding cell.\n",
    "        self.grid[row,column] = ChessBoard.red\n",
    "        self.red_qeen =[row,column]\n",
    "        # print(self.red_qeen)\n",
    "        \n",
    "\n",
    "    def add_blue(self,row,column):\n",
    "        # method that accepts a row and column as input which colors corresponding cell.\n",
    "        self.grid[row,column] = ChessBoard.blue\n",
    "        self.blue_qeen =[row,column]\n",
    "        # print(self.blue_qeen)\n",
    "        \n",
    "    def render(self):\n",
    "        # method that displays the chess board on screen with red and blue shown in correct locations\n",
    "        plt.imshow(self.grid)\n",
    "        \n",
    "    def is_under_attack(self):\n",
    "        # method that return boolean if red is under attack by a blue piece horizontally, vertically or diagonally\n",
    "        \n",
    "        # queens on same row should be “under attack”\n",
    "        # queens on same column should be “under attack”\n",
    "        # queens on same diagonal should be “under attack”\n",
    "        # queens with any other coordinates should NOT be “under attack”\n",
    "        \n",
    "        # self.blue_qeen[row,col]\n",
    "        # self.red_qeen[row,col]\n",
    "        \n",
    "        # horizontally\n",
    "        \n",
    "        if self.blue_qeen[0]==self.red_qeen[0]:\n",
    "            return True\n",
    "        # vertically\n",
    "        \n",
    "        if self.blue_qeen[1]==self.red_qeen[1]:\n",
    "            return True\n",
    "        \n",
    "        # diagonally\n",
    "        \n",
    "        return False\n",
    "    \n",
    "    def trying(self):\n",
    "        #check the queen cell if white or black\n",
    "        # if black start from 1 ethier from 0\n",
    "        row=self.blue_qeen[0]\n",
    "        col = self.blue_qeen[1]+1\n",
    "        print(self.grid[row,col])\n",
    "        print(ChessBoard.white)\n",
    "        return self.grid[row,col] is ChessBoard.white\n",
    "        \n",
    "    \n"
   ]
  },
  {
   "cell_type": "code",
   "execution_count": 65,
   "metadata": {},
   "outputs": [
    {
     "name": "stdout",
     "output_type": "stream",
     "text": [
      "[1. 1. 1.]\n",
      "[1, 1, 1]\n"
     ]
    },
    {
     "data": {
      "text/plain": [
       "False"
      ]
     },
     "execution_count": 65,
     "metadata": {},
     "output_type": "execute_result"
    },
    {
     "data": {
      "image/png": "[encoded data removed]",
      "text/plain": [
       "<Figure size 432x288 with 1 Axes>"
      ]
     },
     "metadata": {
      "needs_background": "light"
     },
     "output_type": "display_data"
    }
   ],
   "source": [
    "newgame = ChessBoard()\n",
    "newgame.render()\n",
    "newgame.add_red(1,2)\n",
    "newgame.add_blue(5,4)\n",
    "newgame.render()\n",
    "newgame.trying()"
   ]
  },
  {
   "cell_type": "code",
   "execution_count": null,
   "metadata": {},
   "outputs": [],
   "source": []
  }
 ],
 "metadata": {
  "kernelspec": {
   "display_name": "Python 3",
   "language": "python",
   "name": "python3"
  },
  "language_info": {
   "codemirror_mode": {
    "name": "ipython",
    "version": 3
   },
   "file_extension": ".py",
   "mimetype": "text/x-python",
   "name": "python",
   "nbconvert_exporter": "python",
   "pygments_lexer": "ipython3",
   "version": "3.9.0"
  }
 },
 "nbformat": 4,
 "nbformat_minor": 4
}
